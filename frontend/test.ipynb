{
 "cells": [
  {
   "cell_type": "code",
   "execution_count": 9,
   "metadata": {},
   "outputs": [
    {
     "name": "stdout",
     "output_type": "stream",
     "text": [
      "                                     id               published_at  \\\n",
      "0  401cea1c-7150-4bb7-ac90-13a25429b84d  2024-10-18T11:49:31+00:00   \n",
      "\n",
      "                   created_at  title                        bullet_points  \\\n",
      "0  2024-10-19T11:49:36.537042  title  dddjngkr, emoere rogrg, eioefoefoef   \n",
      "\n",
      "                                             summary  \\\n",
      "0  egomrtøogskvaeropngmvialernhboptmnqrogarmngikl...   \n",
      "\n",
      "                                                 url       category  \n",
      "0  https://stackoverflow.com/questions/11618898/p...  offshore-wind  \n"
     ]
    }
   ],
   "source": [
    "import requests\n",
    "import pandas as pd\n",
    "\n",
    "\n",
    "url = \"https://news-articles-summarizer-git-api-mithunansivakumars-projects.vercel.app/articles\"\n",
    "\n",
    "# Fetch the data from the URL\n",
    "response = requests.get(url)\n",
    "\n",
    "# Check if the request was successful\n",
    "if response.status_code == 200:\n",
    "    # Parse the JSON response\n",
    "    data = response.json()\n",
    "\n",
    "    return data\n",
    "    \n",
    "   \n",
    "else:\n",
    "    print(f\"Failed to fetch data. Status code: {response.status_code}\")\n",
    "\n",
    "    return []"
   ]
  },
  {
   "cell_type": "code",
   "execution_count": 10,
   "metadata": {},
   "outputs": [],
   "source": [
    "url = \"https://news-articles-summarizer-git-api-mithunansivakumars-projects.vercel.app/articles\"\n",
    "\n",
    "# Fetch the data from the URL\n",
    "response = requests.get(url)"
   ]
  }
 ],
 "metadata": {
  "kernelspec": {
   "display_name": "carnegie",
   "language": "python",
   "name": "python3"
  },
  "language_info": {
   "codemirror_mode": {
    "name": "ipython",
    "version": 3
   },
   "file_extension": ".py",
   "mimetype": "text/x-python",
   "name": "python",
   "nbconvert_exporter": "python",
   "pygments_lexer": "ipython3",
   "version": "3.13.0"
  }
 },
 "nbformat": 4,
 "nbformat_minor": 2
}
